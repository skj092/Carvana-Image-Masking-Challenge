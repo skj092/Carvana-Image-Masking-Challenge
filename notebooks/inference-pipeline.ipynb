{
 "cells": [
  {
   "cell_type": "code",
   "execution_count": 1,
   "id": "e9621c68",
   "metadata": {
    "execution": {
     "iopub.execute_input": "2025-07-30T06:33:29.753287Z",
     "iopub.status.busy": "2025-07-30T06:33:29.753044Z",
     "iopub.status.idle": "2025-07-30T06:34:47.314455Z",
     "shell.execute_reply": "2025-07-30T06:34:47.313621Z"
    },
    "papermill": {
     "duration": 77.56651,
     "end_time": "2025-07-30T06:34:47.316066",
     "exception": false,
     "start_time": "2025-07-30T06:33:29.749556",
     "status": "completed"
    },
    "tags": []
   },
   "outputs": [
    {
     "name": "stdout",
     "output_type": "stream",
     "text": [
      "\u001b[2K   \u001b[90m━━━━━━━━━━━━━━━━━━━━━━━━━━━━━━━━━━━━━━━━\u001b[0m \u001b[32m154.8/154.8 kB\u001b[0m \u001b[31m4.0 MB/s\u001b[0m eta \u001b[36m0:00:00\u001b[0m\r\n",
      "\u001b[2K   \u001b[90m━━━━━━━━━━━━━━━━━━━━━━━━━━━━━━━━━━━━━━━━\u001b[0m \u001b[32m363.4/363.4 MB\u001b[0m \u001b[31m4.7 MB/s\u001b[0m eta \u001b[36m0:00:00\u001b[0m\r\n",
      "\u001b[2K   \u001b[90m━━━━━━━━━━━━━━━━━━━━━━━━━━━━━━━━━━━━━━━━\u001b[0m \u001b[32m13.8/13.8 MB\u001b[0m \u001b[31m87.1 MB/s\u001b[0m eta \u001b[36m0:00:00\u001b[0m\r\n",
      "\u001b[2K   \u001b[90m━━━━━━━━━━━━━━━━━━━━━━━━━━━━━━━━━━━━━━━━\u001b[0m \u001b[32m24.6/24.6 MB\u001b[0m \u001b[31m76.0 MB/s\u001b[0m eta \u001b[36m0:00:00\u001b[0m\r\n",
      "\u001b[2K   \u001b[90m━━━━━━━━━━━━━━━━━━━━━━━━━━━━━━━━━━━━━━━━\u001b[0m \u001b[32m883.7/883.7 kB\u001b[0m \u001b[31m33.9 MB/s\u001b[0m eta \u001b[36m0:00:00\u001b[0m\r\n",
      "\u001b[2K   \u001b[90m━━━━━━━━━━━━━━━━━━━━━━━━━━━━━━━━━━━━━━━━\u001b[0m \u001b[32m664.8/664.8 MB\u001b[0m \u001b[31m2.6 MB/s\u001b[0m eta \u001b[36m0:00:00\u001b[0m\r\n",
      "\u001b[2K   \u001b[90m━━━━━━━━━━━━━━━━━━━━━━━━━━━━━━━━━━━━━━━━\u001b[0m \u001b[32m211.5/211.5 MB\u001b[0m \u001b[31m8.0 MB/s\u001b[0m eta \u001b[36m0:00:00\u001b[0m\r\n",
      "\u001b[2K   \u001b[90m━━━━━━━━━━━━━━━━━━━━━━━━━━━━━━━━━━━━━━━━\u001b[0m \u001b[32m56.3/56.3 MB\u001b[0m \u001b[31m31.4 MB/s\u001b[0m eta \u001b[36m0:00:00\u001b[0m\r\n",
      "\u001b[2K   \u001b[90m━━━━━━━━━━━━━━━━━━━━━━━━━━━━━━━━━━━━━━━━\u001b[0m \u001b[32m127.9/127.9 MB\u001b[0m \u001b[31m12.3 MB/s\u001b[0m eta \u001b[36m0:00:00\u001b[0m\r\n",
      "\u001b[2K   \u001b[90m━━━━━━━━━━━━━━━━━━━━━━━━━━━━━━━━━━━━━━━━\u001b[0m \u001b[32m207.5/207.5 MB\u001b[0m \u001b[31m6.8 MB/s\u001b[0m eta \u001b[36m0:00:00\u001b[0m\r\n",
      "\u001b[2K   \u001b[90m━━━━━━━━━━━━━━━━━━━━━━━━━━━━━━━━━━━━━━━━\u001b[0m \u001b[32m21.1/21.1 MB\u001b[0m \u001b[31m78.8 MB/s\u001b[0m eta \u001b[36m0:00:00\u001b[0m\r\n",
      "\u001b[?25h"
     ]
    }
   ],
   "source": [
    "!pip install -q segmentation_models_pytorch"
   ]
  },
  {
   "cell_type": "code",
   "execution_count": 2,
   "id": "b94c2d9c",
   "metadata": {
    "execution": {
     "iopub.execute_input": "2025-07-30T06:34:47.354389Z",
     "iopub.status.busy": "2025-07-30T06:34:47.354121Z",
     "iopub.status.idle": "2025-07-30T06:35:04.841444Z",
     "shell.execute_reply": "2025-07-30T06:35:04.840782Z"
    },
    "papermill": {
     "duration": 17.507637,
     "end_time": "2025-07-30T06:35:04.842815",
     "exception": false,
     "start_time": "2025-07-30T06:34:47.335178",
     "status": "completed"
    },
    "tags": []
   },
   "outputs": [],
   "source": [
    "from pathlib import Path\n",
    "import torch\n",
    "import numpy as np\n",
    "import pandas as pd\n",
    "import cv2\n",
    "from torch import nn\n",
    "from PIL import Image\n",
    "import segmentation_models_pytorch as smp\n",
    "from tqdm import tqdm\n",
    "from zipfile import ZipFile"
   ]
  },
  {
   "cell_type": "code",
   "execution_count": 3,
   "id": "34625a4d",
   "metadata": {
    "execution": {
     "iopub.execute_input": "2025-07-30T06:35:04.877960Z",
     "iopub.status.busy": "2025-07-30T06:35:04.877700Z",
     "iopub.status.idle": "2025-07-30T06:35:05.171012Z",
     "shell.execute_reply": "2025-07-30T06:35:05.170379Z"
    },
    "papermill": {
     "duration": 0.311649,
     "end_time": "2025-07-30T06:35:05.172053",
     "exception": false,
     "start_time": "2025-07-30T06:35:04.860404",
     "status": "completed"
    },
    "tags": []
   },
   "outputs": [],
   "source": [
    "# -------- Config --------\n",
    "DATA_DIR = Path('.')  # path to your Carvana dataset\n",
    "TEST_DIR = DATA_DIR / 'test'  # test folder with .jpg files\n",
    "MODEL_PATH = '/kaggle/input/carvana-training-pipeline/best_epoch-00.bin'\n",
    "SUBMISSION_PATH = 'submission.csv'\n",
    "BATCH_SIZE = 32 * 2\n",
    "DEVICE = torch.device('cuda' if torch.cuda.is_available() else 'cpu')\n",
    "INPUT_SIZE = (224, 224)\n",
    "ORIG_SIZE = (1918, 1280)  # (width, height)"
   ]
  },
  {
   "cell_type": "code",
   "execution_count": 4,
   "id": "9b2ba25e",
   "metadata": {
    "execution": {
     "iopub.execute_input": "2025-07-30T06:35:05.207184Z",
     "iopub.status.busy": "2025-07-30T06:35:05.206921Z",
     "iopub.status.idle": "2025-07-30T06:37:11.337652Z",
     "shell.execute_reply": "2025-07-30T06:37:11.336847Z"
    },
    "papermill": {
     "duration": 126.165836,
     "end_time": "2025-07-30T06:37:11.354871",
     "exception": false,
     "start_time": "2025-07-30T06:35:05.189035",
     "status": "completed"
    },
    "tags": []
   },
   "outputs": [
    {
     "name": "stdout",
     "output_type": "stream",
     "text": [
      "CPU times: user 1min 13s, sys: 17.7 s, total: 1min 30s\n",
      "Wall time: 2min 6s\n"
     ]
    }
   ],
   "source": [
    "%%time\n",
    "with ZipFile(\"/kaggle/input/carvana-image-masking-challenge/test.zip\") as file:\n",
    "    file.extractall()"
   ]
  },
  {
   "cell_type": "code",
   "execution_count": 5,
   "id": "a0112790",
   "metadata": {
    "execution": {
     "iopub.execute_input": "2025-07-30T06:37:11.389862Z",
     "iopub.status.busy": "2025-07-30T06:37:11.389644Z",
     "iopub.status.idle": "2025-07-30T06:37:12.551185Z",
     "shell.execute_reply": "2025-07-30T06:37:12.550389Z"
    },
    "papermill": {
     "duration": 1.179929,
     "end_time": "2025-07-30T06:37:12.552656",
     "exception": false,
     "start_time": "2025-07-30T06:37:11.372727",
     "status": "completed"
    },
    "tags": []
   },
   "outputs": [
    {
     "data": {
      "application/vnd.jupyter.widget-view+json": {
       "model_id": "ecf0ff5fa47e4642aee223d6bf48f298",
       "version_major": 2,
       "version_minor": 0
      },
      "text/plain": [
       "config.json:   0%|          | 0.00/106 [00:00<?, ?B/s]"
      ]
     },
     "metadata": {},
     "output_type": "display_data"
    },
    {
     "data": {
      "application/vnd.jupyter.widget-view+json": {
       "model_id": "4affd967ad664eed8aca6f76c671f309",
       "version_major": 2,
       "version_minor": 0
      },
      "text/plain": [
       "model.safetensors:   0%|          | 0.00/21.4M [00:00<?, ?B/s]"
      ]
     },
     "metadata": {},
     "output_type": "display_data"
    }
   ],
   "source": [
    "# -------- Model --------\n",
    "def build_model():\n",
    "    model = smp.Unet(\n",
    "        encoder_name=\"efficientnet-b0\",\n",
    "        encoder_weights=\"imagenet\",\n",
    "        in_channels=3,\n",
    "        classes=1,\n",
    "        activation=None,\n",
    "    )\n",
    "    return model\n",
    "\n",
    "def load_model(path):\n",
    "    model = build_model()\n",
    "    model.load_state_dict(torch.load(path))\n",
    "    model.eval()\n",
    "    model.to(DEVICE)\n",
    "    return model\n",
    "\n",
    "model = load_model(MODEL_PATH)"
   ]
  },
  {
   "cell_type": "code",
   "execution_count": 6,
   "id": "3666cc59",
   "metadata": {
    "execution": {
     "iopub.execute_input": "2025-07-30T06:37:12.587819Z",
     "iopub.status.busy": "2025-07-30T06:37:12.587591Z",
     "iopub.status.idle": "2025-07-30T06:37:12.593238Z",
     "shell.execute_reply": "2025-07-30T06:37:12.592703Z"
    },
    "papermill": {
     "duration": 0.024264,
     "end_time": "2025-07-30T06:37:12.594286",
     "exception": false,
     "start_time": "2025-07-30T06:37:12.570022",
     "status": "completed"
    },
    "tags": []
   },
   "outputs": [],
   "source": [
    "# -------- Image Preprocessing --------\n",
    "def preprocess_img_batch(paths, input_size=(224, 224)):\n",
    "    imgs = []\n",
    "    for path in paths:\n",
    "        img = cv2.imread(str(path), cv2.IMREAD_COLOR)\n",
    "        img = cv2.cvtColor(img, cv2.COLOR_BGR2RGB)\n",
    "        img = img.astype(np.float32) / 255.0\n",
    "        img = cv2.resize(img, input_size)\n",
    "        img = np.transpose(img, (2, 0, 1))  # CHW\n",
    "        imgs.append(img)\n",
    "    batch = np.stack(imgs)  # (B, 3, H, W)\n",
    "    return torch.from_numpy(batch).to(DEVICE)\n",
    "\n",
    "# -------- RLE Encoding --------\n",
    "def rle_encode(mask):\n",
    "    pixels = mask.flatten()\n",
    "    pixels = np.concatenate([[0], pixels, [0]])\n",
    "    runs = np.where(pixels[1:] != pixels[:-1])[0] + 1\n",
    "    runs[1::2] -= runs[::2]\n",
    "    return ' '.join(str(x) for x in runs)"
   ]
  },
  {
   "cell_type": "code",
   "execution_count": 7,
   "id": "8002fecb",
   "metadata": {
    "execution": {
     "iopub.execute_input": "2025-07-30T06:37:12.628380Z",
     "iopub.status.busy": "2025-07-30T06:37:12.628150Z",
     "iopub.status.idle": "2025-07-30T07:31:21.920482Z",
     "shell.execute_reply": "2025-07-30T07:31:21.919594Z"
    },
    "papermill": {
     "duration": 3249.310748,
     "end_time": "2025-07-30T07:31:21.921728",
     "exception": false,
     "start_time": "2025-07-30T06:37:12.610980",
     "status": "completed"
    },
    "tags": []
   },
   "outputs": [
    {
     "name": "stderr",
     "output_type": "stream",
     "text": [
      "100%|██████████| 1564/1564 [54:07<00:00,  2.08s/it]\n"
     ]
    }
   ],
   "source": [
    "# -------- Inference --------\n",
    "test_paths = sorted(TEST_DIR.glob('*.jpg'))\n",
    "submission_data = []\n",
    "\n",
    "for i in tqdm(range(0, len(test_paths), BATCH_SIZE)):\n",
    "    batch_paths = test_paths[i:i+BATCH_SIZE]\n",
    "    batch_imgs = preprocess_img_batch(batch_paths, INPUT_SIZE)\n",
    "\n",
    "    with torch.no_grad():\n",
    "        preds = model(batch_imgs)\n",
    "        preds = torch.sigmoid(preds)\n",
    "        preds = (preds > 0.5).float()\n",
    "\n",
    "    preds = preds.squeeze(1).cpu().numpy()  # (B, H, W)\n",
    "\n",
    "    for img_path, pred in zip(batch_paths, preds):\n",
    "        pred_resized = cv2.resize(pred, ORIG_SIZE)\n",
    "        pred_bin = (pred_resized > 0.5).astype(np.uint8)\n",
    "        rle = rle_encode(pred_bin)\n",
    "        submission_data.append((img_path.name, rle))"
   ]
  },
  {
   "cell_type": "code",
   "execution_count": 8,
   "id": "5f5a741d",
   "metadata": {
    "_cell_guid": "b1076dfc-b9ad-4769-8c92-a6c4dae69d19",
    "_uuid": "8f2839f25d086af736a60e9eeb907d3b93b6e0e5",
    "execution": {
     "iopub.execute_input": "2025-07-30T07:31:22.079961Z",
     "iopub.status.busy": "2025-07-30T07:31:22.079331Z",
     "iopub.status.idle": "2025-07-30T07:31:43.497581Z",
     "shell.execute_reply": "2025-07-30T07:31:43.496768Z"
    },
    "papermill": {
     "duration": 21.497941,
     "end_time": "2025-07-30T07:31:43.498787",
     "exception": false,
     "start_time": "2025-07-30T07:31:22.000846",
     "status": "completed"
    },
    "tags": []
   },
   "outputs": [
    {
     "name": "stdout",
     "output_type": "stream",
     "text": [
      "✅ Submission file saved to submission.csv\n"
     ]
    }
   ],
   "source": [
    "# -------- Save Submission --------\n",
    "submission_df = pd.DataFrame(submission_data, columns=[\"img\", \"rle_mask\"])\n",
    "submission_df.to_csv(SUBMISSION_PATH, index=False)\n",
    "print(f\"✅ Submission file saved to {SUBMISSION_PATH}\")"
   ]
  },
  {
   "cell_type": "code",
   "execution_count": 9,
   "id": "0ce7fdbc",
   "metadata": {
    "execution": {
     "iopub.execute_input": "2025-07-30T07:31:43.652323Z",
     "iopub.status.busy": "2025-07-30T07:31:43.651756Z",
     "iopub.status.idle": "2025-07-30T07:31:43.711230Z",
     "shell.execute_reply": "2025-07-30T07:31:43.710572Z"
    },
    "papermill": {
     "duration": 0.135432,
     "end_time": "2025-07-30T07:31:43.712227",
     "exception": false,
     "start_time": "2025-07-30T07:31:43.576795",
     "status": "completed"
    },
    "tags": []
   },
   "outputs": [
    {
     "data": {
      "text/html": [
       "<div>\n",
       "<style scoped>\n",
       "    .dataframe tbody tr th:only-of-type {\n",
       "        vertical-align: middle;\n",
       "    }\n",
       "\n",
       "    .dataframe tbody tr th {\n",
       "        vertical-align: top;\n",
       "    }\n",
       "\n",
       "    .dataframe thead th {\n",
       "        text-align: right;\n",
       "    }\n",
       "</style>\n",
       "<table border=\"1\" class=\"dataframe\">\n",
       "  <thead>\n",
       "    <tr style=\"text-align: right;\">\n",
       "      <th></th>\n",
       "      <th>img</th>\n",
       "      <th>rle_mask</th>\n",
       "    </tr>\n",
       "  </thead>\n",
       "  <tbody>\n",
       "    <tr>\n",
       "      <th>0</th>\n",
       "      <td>0004d4463b50_01.jpg</td>\n",
       "      <td>614535 276 616451 280 618368 282 620285 284 62...</td>\n",
       "    </tr>\n",
       "    <tr>\n",
       "      <th>1</th>\n",
       "      <td>0004d4463b50_02.jpg</td>\n",
       "      <td>614543 268 616460 271 618376 274 620294 275 62...</td>\n",
       "    </tr>\n",
       "    <tr>\n",
       "      <th>2</th>\n",
       "      <td>0004d4463b50_03.jpg</td>\n",
       "      <td>614552 285 616468 289 618385 291 620302 292 62...</td>\n",
       "    </tr>\n",
       "    <tr>\n",
       "      <th>3</th>\n",
       "      <td>0004d4463b50_04.jpg</td>\n",
       "      <td>603395 10 605312 13 607228 16 609146 17 611064...</td>\n",
       "    </tr>\n",
       "    <tr>\n",
       "      <th>4</th>\n",
       "      <td>0004d4463b50_05.jpg</td>\n",
       "      <td>614646 182 614843 2 616562 186 616759 6 618479...</td>\n",
       "    </tr>\n",
       "  </tbody>\n",
       "</table>\n",
       "</div>"
      ],
      "text/plain": [
       "                   img                                           rle_mask\n",
       "0  0004d4463b50_01.jpg  614535 276 616451 280 618368 282 620285 284 62...\n",
       "1  0004d4463b50_02.jpg  614543 268 616460 271 618376 274 620294 275 62...\n",
       "2  0004d4463b50_03.jpg  614552 285 616468 289 618385 291 620302 292 62...\n",
       "3  0004d4463b50_04.jpg  603395 10 605312 13 607228 16 609146 17 611064...\n",
       "4  0004d4463b50_05.jpg  614646 182 614843 2 616562 186 616759 6 618479..."
      ]
     },
     "execution_count": 9,
     "metadata": {},
     "output_type": "execute_result"
    }
   ],
   "source": [
    "submission_df.head()"
   ]
  },
  {
   "cell_type": "code",
   "execution_count": 10,
   "id": "10fff5ec",
   "metadata": {
    "execution": {
     "iopub.execute_input": "2025-07-30T07:31:43.865953Z",
     "iopub.status.busy": "2025-07-30T07:31:43.865272Z",
     "iopub.status.idle": "2025-07-30T07:31:47.853282Z",
     "shell.execute_reply": "2025-07-30T07:31:47.852174Z"
    },
    "papermill": {
     "duration": 4.065625,
     "end_time": "2025-07-30T07:31:47.854839",
     "exception": false,
     "start_time": "2025-07-30T07:31:43.789214",
     "status": "completed"
    },
    "tags": []
   },
   "outputs": [],
   "source": [
    "!rm -rf test"
   ]
  },
  {
   "cell_type": "code",
   "execution_count": 11,
   "id": "c6590664",
   "metadata": {
    "execution": {
     "iopub.execute_input": "2025-07-30T07:31:48.010008Z",
     "iopub.status.busy": "2025-07-30T07:31:48.009388Z",
     "iopub.status.idle": "2025-07-30T07:31:48.192051Z",
     "shell.execute_reply": "2025-07-30T07:31:48.191242Z"
    },
    "papermill": {
     "duration": 0.261741,
     "end_time": "2025-07-30T07:31:48.193609",
     "exception": false,
     "start_time": "2025-07-30T07:31:47.931868",
     "status": "completed"
    },
    "tags": []
   },
   "outputs": [
    {
     "name": "stdout",
     "output_type": "stream",
     "text": [
      "__notebook__.ipynb  submission.csv\r\n"
     ]
    }
   ],
   "source": [
    "ls"
   ]
  }
 ],
 "metadata": {
  "kaggle": {
   "accelerator": "nvidiaTeslaT4",
   "dataSources": [
    {
     "databundleVersionId": 45059,
     "sourceId": 6927,
     "sourceType": "competition"
    },
    {
     "sourceId": 253078597,
     "sourceType": "kernelVersion"
    }
   ],
   "dockerImageVersionId": 31090,
   "isGpuEnabled": true,
   "isInternetEnabled": true,
   "language": "python",
   "sourceType": "notebook"
  },
  "kernelspec": {
   "display_name": "Python 3",
   "language": "python",
   "name": "python3"
  },
  "language_info": {
   "codemirror_mode": {
    "name": "ipython",
    "version": 3
   },
   "file_extension": ".py",
   "mimetype": "text/x-python",
   "name": "python",
   "nbconvert_exporter": "python",
   "pygments_lexer": "ipython3",
   "version": "3.11.13"
  },
  "papermill": {
   "default_parameters": {},
   "duration": 3507.568096,
   "end_time": "2025-07-30T07:31:51.665081",
   "environment_variables": {},
   "exception": null,
   "input_path": "__notebook__.ipynb",
   "output_path": "__notebook__.ipynb",
   "parameters": {},
   "start_time": "2025-07-30T06:33:24.096985",
   "version": "2.6.0"
  },
  "widgets": {
   "application/vnd.jupyter.widget-state+json": {
    "state": {
     "08f08637d8cf4b459bef88d8be5e4a96": {
      "model_module": "@jupyter-widgets/base",
      "model_module_version": "2.0.0",
      "model_name": "LayoutModel",
      "state": {
       "_model_module": "@jupyter-widgets/base",
       "_model_module_version": "2.0.0",
       "_model_name": "LayoutModel",
       "_view_count": null,
       "_view_module": "@jupyter-widgets/base",
       "_view_module_version": "2.0.0",
       "_view_name": "LayoutView",
       "align_content": null,
       "align_items": null,
       "align_self": null,
       "border_bottom": null,
       "border_left": null,
       "border_right": null,
       "border_top": null,
       "bottom": null,
       "display": null,
       "flex": null,
       "flex_flow": null,
       "grid_area": null,
       "grid_auto_columns": null,
       "grid_auto_flow": null,
       "grid_auto_rows": null,
       "grid_column": null,
       "grid_gap": null,
       "grid_row": null,
       "grid_template_areas": null,
       "grid_template_columns": null,
       "grid_template_rows": null,
       "height": null,
       "justify_content": null,
       "justify_items": null,
       "left": null,
       "margin": null,
       "max_height": null,
       "max_width": null,
       "min_height": null,
       "min_width": null,
       "object_fit": null,
       "object_position": null,
       "order": null,
       "overflow": null,
       "padding": null,
       "right": null,
       "top": null,
       "visibility": null,
       "width": null
      }
     },
     "09010e4e2434409284027e619d48123e": {
      "model_module": "@jupyter-widgets/controls",
      "model_module_version": "2.0.0",
      "model_name": "ProgressStyleModel",
      "state": {
       "_model_module": "@jupyter-widgets/controls",
       "_model_module_version": "2.0.0",
       "_model_name": "ProgressStyleModel",
       "_view_count": null,
       "_view_module": "@jupyter-widgets/base",
       "_view_module_version": "2.0.0",
       "_view_name": "StyleView",
       "bar_color": null,
       "description_width": ""
      }
     },
     "1780ede3469a4c3994a2727374fbd20e": {
      "model_module": "@jupyter-widgets/base",
      "model_module_version": "2.0.0",
      "model_name": "LayoutModel",
      "state": {
       "_model_module": "@jupyter-widgets/base",
       "_model_module_version": "2.0.0",
       "_model_name": "LayoutModel",
       "_view_count": null,
       "_view_module": "@jupyter-widgets/base",
       "_view_module_version": "2.0.0",
       "_view_name": "LayoutView",
       "align_content": null,
       "align_items": null,
       "align_self": null,
       "border_bottom": null,
       "border_left": null,
       "border_right": null,
       "border_top": null,
       "bottom": null,
       "display": null,
       "flex": null,
       "flex_flow": null,
       "grid_area": null,
       "grid_auto_columns": null,
       "grid_auto_flow": null,
       "grid_auto_rows": null,
       "grid_column": null,
       "grid_gap": null,
       "grid_row": null,
       "grid_template_areas": null,
       "grid_template_columns": null,
       "grid_template_rows": null,
       "height": null,
       "justify_content": null,
       "justify_items": null,
       "left": null,
       "margin": null,
       "max_height": null,
       "max_width": null,
       "min_height": null,
       "min_width": null,
       "object_fit": null,
       "object_position": null,
       "order": null,
       "overflow": null,
       "padding": null,
       "right": null,
       "top": null,
       "visibility": null,
       "width": null
      }
     },
     "181a0e8d85d443f8858127f764bf6fd2": {
      "model_module": "@jupyter-widgets/controls",
      "model_module_version": "2.0.0",
      "model_name": "FloatProgressModel",
      "state": {
       "_dom_classes": [],
       "_model_module": "@jupyter-widgets/controls",
       "_model_module_version": "2.0.0",
       "_model_name": "FloatProgressModel",
       "_view_count": null,
       "_view_module": "@jupyter-widgets/controls",
       "_view_module_version": "2.0.0",
       "_view_name": "ProgressView",
       "bar_style": "success",
       "description": "",
       "description_allow_html": false,
       "layout": "IPY_MODEL_bb62982adfbb4c66aba0683f0bd5c8cb",
       "max": 21355856.0,
       "min": 0.0,
       "orientation": "horizontal",
       "style": "IPY_MODEL_09010e4e2434409284027e619d48123e",
       "tabbable": null,
       "tooltip": null,
       "value": 21355856.0
      }
     },
     "220d23517d9243d0b341c807ebed244b": {
      "model_module": "@jupyter-widgets/controls",
      "model_module_version": "2.0.0",
      "model_name": "HTMLModel",
      "state": {
       "_dom_classes": [],
       "_model_module": "@jupyter-widgets/controls",
       "_model_module_version": "2.0.0",
       "_model_name": "HTMLModel",
       "_view_count": null,
       "_view_module": "@jupyter-widgets/controls",
       "_view_module_version": "2.0.0",
       "_view_name": "HTMLView",
       "description": "",
       "description_allow_html": false,
       "layout": "IPY_MODEL_1780ede3469a4c3994a2727374fbd20e",
       "placeholder": "​",
       "style": "IPY_MODEL_a45f928783cd48ecb8383db0ad636e64",
       "tabbable": null,
       "tooltip": null,
       "value": "model.safetensors: 100%"
      }
     },
     "345507d9ce9240fbb4c6bf7bd64f88da": {
      "model_module": "@jupyter-widgets/controls",
      "model_module_version": "2.0.0",
      "model_name": "HTMLModel",
      "state": {
       "_dom_classes": [],
       "_model_module": "@jupyter-widgets/controls",
       "_model_module_version": "2.0.0",
       "_model_name": "HTMLModel",
       "_view_count": null,
       "_view_module": "@jupyter-widgets/controls",
       "_view_module_version": "2.0.0",
       "_view_name": "HTMLView",
       "description": "",
       "description_allow_html": false,
       "layout": "IPY_MODEL_bc9684ca898f4e998f261c93e9d05cc1",
       "placeholder": "​",
       "style": "IPY_MODEL_ad07e00b30604ea3b07c8ecf1195fc9d",
       "tabbable": null,
       "tooltip": null,
       "value": " 106/106 [00:00&lt;00:00, 12.3kB/s]"
      }
     },
     "3ac937e91e2e40ea8e3dbcd7b9b78942": {
      "model_module": "@jupyter-widgets/controls",
      "model_module_version": "2.0.0",
      "model_name": "HTMLStyleModel",
      "state": {
       "_model_module": "@jupyter-widgets/controls",
       "_model_module_version": "2.0.0",
       "_model_name": "HTMLStyleModel",
       "_view_count": null,
       "_view_module": "@jupyter-widgets/base",
       "_view_module_version": "2.0.0",
       "_view_name": "StyleView",
       "background": null,
       "description_width": "",
       "font_size": null,
       "text_color": null
      }
     },
     "3e658ff739494329b8347eacfe174184": {
      "model_module": "@jupyter-widgets/controls",
      "model_module_version": "2.0.0",
      "model_name": "FloatProgressModel",
      "state": {
       "_dom_classes": [],
       "_model_module": "@jupyter-widgets/controls",
       "_model_module_version": "2.0.0",
       "_model_name": "FloatProgressModel",
       "_view_count": null,
       "_view_module": "@jupyter-widgets/controls",
       "_view_module_version": "2.0.0",
       "_view_name": "ProgressView",
       "bar_style": "success",
       "description": "",
       "description_allow_html": false,
       "layout": "IPY_MODEL_c6036fafc58a4a0aa5cf8505a11e81a3",
       "max": 106.0,
       "min": 0.0,
       "orientation": "horizontal",
       "style": "IPY_MODEL_ff0afd2e4ca94c09b6f4caddcb542f16",
       "tabbable": null,
       "tooltip": null,
       "value": 106.0
      }
     },
     "4804ed92271e44bcaa53eaca82ee1657": {
      "model_module": "@jupyter-widgets/controls",
      "model_module_version": "2.0.0",
      "model_name": "HTMLStyleModel",
      "state": {
       "_model_module": "@jupyter-widgets/controls",
       "_model_module_version": "2.0.0",
       "_model_name": "HTMLStyleModel",
       "_view_count": null,
       "_view_module": "@jupyter-widgets/base",
       "_view_module_version": "2.0.0",
       "_view_name": "StyleView",
       "background": null,
       "description_width": "",
       "font_size": null,
       "text_color": null
      }
     },
     "4affd967ad664eed8aca6f76c671f309": {
      "model_module": "@jupyter-widgets/controls",
      "model_module_version": "2.0.0",
      "model_name": "HBoxModel",
      "state": {
       "_dom_classes": [],
       "_model_module": "@jupyter-widgets/controls",
       "_model_module_version": "2.0.0",
       "_model_name": "HBoxModel",
       "_view_count": null,
       "_view_module": "@jupyter-widgets/controls",
       "_view_module_version": "2.0.0",
       "_view_name": "HBoxView",
       "box_style": "",
       "children": [
        "IPY_MODEL_220d23517d9243d0b341c807ebed244b",
        "IPY_MODEL_181a0e8d85d443f8858127f764bf6fd2",
        "IPY_MODEL_94f535b43bc84936982b5866115abf42"
       ],
       "layout": "IPY_MODEL_c4ca97ad3c8941d3b590b1a7e6540815",
       "tabbable": null,
       "tooltip": null
      }
     },
     "52155631bf5f4f32b8a92c8396041f29": {
      "model_module": "@jupyter-widgets/base",
      "model_module_version": "2.0.0",
      "model_name": "LayoutModel",
      "state": {
       "_model_module": "@jupyter-widgets/base",
       "_model_module_version": "2.0.0",
       "_model_name": "LayoutModel",
       "_view_count": null,
       "_view_module": "@jupyter-widgets/base",
       "_view_module_version": "2.0.0",
       "_view_name": "LayoutView",
       "align_content": null,
       "align_items": null,
       "align_self": null,
       "border_bottom": null,
       "border_left": null,
       "border_right": null,
       "border_top": null,
       "bottom": null,
       "display": null,
       "flex": null,
       "flex_flow": null,
       "grid_area": null,
       "grid_auto_columns": null,
       "grid_auto_flow": null,
       "grid_auto_rows": null,
       "grid_column": null,
       "grid_gap": null,
       "grid_row": null,
       "grid_template_areas": null,
       "grid_template_columns": null,
       "grid_template_rows": null,
       "height": null,
       "justify_content": null,
       "justify_items": null,
       "left": null,
       "margin": null,
       "max_height": null,
       "max_width": null,
       "min_height": null,
       "min_width": null,
       "object_fit": null,
       "object_position": null,
       "order": null,
       "overflow": null,
       "padding": null,
       "right": null,
       "top": null,
       "visibility": null,
       "width": null
      }
     },
     "9346f942294548e2ab6caf94d2c24934": {
      "model_module": "@jupyter-widgets/controls",
      "model_module_version": "2.0.0",
      "model_name": "HTMLModel",
      "state": {
       "_dom_classes": [],
       "_model_module": "@jupyter-widgets/controls",
       "_model_module_version": "2.0.0",
       "_model_name": "HTMLModel",
       "_view_count": null,
       "_view_module": "@jupyter-widgets/controls",
       "_view_module_version": "2.0.0",
       "_view_name": "HTMLView",
       "description": "",
       "description_allow_html": false,
       "layout": "IPY_MODEL_52155631bf5f4f32b8a92c8396041f29",
       "placeholder": "​",
       "style": "IPY_MODEL_3ac937e91e2e40ea8e3dbcd7b9b78942",
       "tabbable": null,
       "tooltip": null,
       "value": "config.json: 100%"
      }
     },
     "94f535b43bc84936982b5866115abf42": {
      "model_module": "@jupyter-widgets/controls",
      "model_module_version": "2.0.0",
      "model_name": "HTMLModel",
      "state": {
       "_dom_classes": [],
       "_model_module": "@jupyter-widgets/controls",
       "_model_module_version": "2.0.0",
       "_model_name": "HTMLModel",
       "_view_count": null,
       "_view_module": "@jupyter-widgets/controls",
       "_view_module_version": "2.0.0",
       "_view_name": "HTMLView",
       "description": "",
       "description_allow_html": false,
       "layout": "IPY_MODEL_a748d2e816a84042a51a91783b3fd1ba",
       "placeholder": "​",
       "style": "IPY_MODEL_4804ed92271e44bcaa53eaca82ee1657",
       "tabbable": null,
       "tooltip": null,
       "value": " 21.4M/21.4M [00:00&lt;00:00, 99.7MB/s]"
      }
     },
     "a45f928783cd48ecb8383db0ad636e64": {
      "model_module": "@jupyter-widgets/controls",
      "model_module_version": "2.0.0",
      "model_name": "HTMLStyleModel",
      "state": {
       "_model_module": "@jupyter-widgets/controls",
       "_model_module_version": "2.0.0",
       "_model_name": "HTMLStyleModel",
       "_view_count": null,
       "_view_module": "@jupyter-widgets/base",
       "_view_module_version": "2.0.0",
       "_view_name": "StyleView",
       "background": null,
       "description_width": "",
       "font_size": null,
       "text_color": null
      }
     },
     "a748d2e816a84042a51a91783b3fd1ba": {
      "model_module": "@jupyter-widgets/base",
      "model_module_version": "2.0.0",
      "model_name": "LayoutModel",
      "state": {
       "_model_module": "@jupyter-widgets/base",
       "_model_module_version": "2.0.0",
       "_model_name": "LayoutModel",
       "_view_count": null,
       "_view_module": "@jupyter-widgets/base",
       "_view_module_version": "2.0.0",
       "_view_name": "LayoutView",
       "align_content": null,
       "align_items": null,
       "align_self": null,
       "border_bottom": null,
       "border_left": null,
       "border_right": null,
       "border_top": null,
       "bottom": null,
       "display": null,
       "flex": null,
       "flex_flow": null,
       "grid_area": null,
       "grid_auto_columns": null,
       "grid_auto_flow": null,
       "grid_auto_rows": null,
       "grid_column": null,
       "grid_gap": null,
       "grid_row": null,
       "grid_template_areas": null,
       "grid_template_columns": null,
       "grid_template_rows": null,
       "height": null,
       "justify_content": null,
       "justify_items": null,
       "left": null,
       "margin": null,
       "max_height": null,
       "max_width": null,
       "min_height": null,
       "min_width": null,
       "object_fit": null,
       "object_position": null,
       "order": null,
       "overflow": null,
       "padding": null,
       "right": null,
       "top": null,
       "visibility": null,
       "width": null
      }
     },
     "ad07e00b30604ea3b07c8ecf1195fc9d": {
      "model_module": "@jupyter-widgets/controls",
      "model_module_version": "2.0.0",
      "model_name": "HTMLStyleModel",
      "state": {
       "_model_module": "@jupyter-widgets/controls",
       "_model_module_version": "2.0.0",
       "_model_name": "HTMLStyleModel",
       "_view_count": null,
       "_view_module": "@jupyter-widgets/base",
       "_view_module_version": "2.0.0",
       "_view_name": "StyleView",
       "background": null,
       "description_width": "",
       "font_size": null,
       "text_color": null
      }
     },
     "bb62982adfbb4c66aba0683f0bd5c8cb": {
      "model_module": "@jupyter-widgets/base",
      "model_module_version": "2.0.0",
      "model_name": "LayoutModel",
      "state": {
       "_model_module": "@jupyter-widgets/base",
       "_model_module_version": "2.0.0",
       "_model_name": "LayoutModel",
       "_view_count": null,
       "_view_module": "@jupyter-widgets/base",
       "_view_module_version": "2.0.0",
       "_view_name": "LayoutView",
       "align_content": null,
       "align_items": null,
       "align_self": null,
       "border_bottom": null,
       "border_left": null,
       "border_right": null,
       "border_top": null,
       "bottom": null,
       "display": null,
       "flex": null,
       "flex_flow": null,
       "grid_area": null,
       "grid_auto_columns": null,
       "grid_auto_flow": null,
       "grid_auto_rows": null,
       "grid_column": null,
       "grid_gap": null,
       "grid_row": null,
       "grid_template_areas": null,
       "grid_template_columns": null,
       "grid_template_rows": null,
       "height": null,
       "justify_content": null,
       "justify_items": null,
       "left": null,
       "margin": null,
       "max_height": null,
       "max_width": null,
       "min_height": null,
       "min_width": null,
       "object_fit": null,
       "object_position": null,
       "order": null,
       "overflow": null,
       "padding": null,
       "right": null,
       "top": null,
       "visibility": null,
       "width": null
      }
     },
     "bc9684ca898f4e998f261c93e9d05cc1": {
      "model_module": "@jupyter-widgets/base",
      "model_module_version": "2.0.0",
      "model_name": "LayoutModel",
      "state": {
       "_model_module": "@jupyter-widgets/base",
       "_model_module_version": "2.0.0",
       "_model_name": "LayoutModel",
       "_view_count": null,
       "_view_module": "@jupyter-widgets/base",
       "_view_module_version": "2.0.0",
       "_view_name": "LayoutView",
       "align_content": null,
       "align_items": null,
       "align_self": null,
       "border_bottom": null,
       "border_left": null,
       "border_right": null,
       "border_top": null,
       "bottom": null,
       "display": null,
       "flex": null,
       "flex_flow": null,
       "grid_area": null,
       "grid_auto_columns": null,
       "grid_auto_flow": null,
       "grid_auto_rows": null,
       "grid_column": null,
       "grid_gap": null,
       "grid_row": null,
       "grid_template_areas": null,
       "grid_template_columns": null,
       "grid_template_rows": null,
       "height": null,
       "justify_content": null,
       "justify_items": null,
       "left": null,
       "margin": null,
       "max_height": null,
       "max_width": null,
       "min_height": null,
       "min_width": null,
       "object_fit": null,
       "object_position": null,
       "order": null,
       "overflow": null,
       "padding": null,
       "right": null,
       "top": null,
       "visibility": null,
       "width": null
      }
     },
     "c4ca97ad3c8941d3b590b1a7e6540815": {
      "model_module": "@jupyter-widgets/base",
      "model_module_version": "2.0.0",
      "model_name": "LayoutModel",
      "state": {
       "_model_module": "@jupyter-widgets/base",
       "_model_module_version": "2.0.0",
       "_model_name": "LayoutModel",
       "_view_count": null,
       "_view_module": "@jupyter-widgets/base",
       "_view_module_version": "2.0.0",
       "_view_name": "LayoutView",
       "align_content": null,
       "align_items": null,
       "align_self": null,
       "border_bottom": null,
       "border_left": null,
       "border_right": null,
       "border_top": null,
       "bottom": null,
       "display": null,
       "flex": null,
       "flex_flow": null,
       "grid_area": null,
       "grid_auto_columns": null,
       "grid_auto_flow": null,
       "grid_auto_rows": null,
       "grid_column": null,
       "grid_gap": null,
       "grid_row": null,
       "grid_template_areas": null,
       "grid_template_columns": null,
       "grid_template_rows": null,
       "height": null,
       "justify_content": null,
       "justify_items": null,
       "left": null,
       "margin": null,
       "max_height": null,
       "max_width": null,
       "min_height": null,
       "min_width": null,
       "object_fit": null,
       "object_position": null,
       "order": null,
       "overflow": null,
       "padding": null,
       "right": null,
       "top": null,
       "visibility": null,
       "width": null
      }
     },
     "c6036fafc58a4a0aa5cf8505a11e81a3": {
      "model_module": "@jupyter-widgets/base",
      "model_module_version": "2.0.0",
      "model_name": "LayoutModel",
      "state": {
       "_model_module": "@jupyter-widgets/base",
       "_model_module_version": "2.0.0",
       "_model_name": "LayoutModel",
       "_view_count": null,
       "_view_module": "@jupyter-widgets/base",
       "_view_module_version": "2.0.0",
       "_view_name": "LayoutView",
       "align_content": null,
       "align_items": null,
       "align_self": null,
       "border_bottom": null,
       "border_left": null,
       "border_right": null,
       "border_top": null,
       "bottom": null,
       "display": null,
       "flex": null,
       "flex_flow": null,
       "grid_area": null,
       "grid_auto_columns": null,
       "grid_auto_flow": null,
       "grid_auto_rows": null,
       "grid_column": null,
       "grid_gap": null,
       "grid_row": null,
       "grid_template_areas": null,
       "grid_template_columns": null,
       "grid_template_rows": null,
       "height": null,
       "justify_content": null,
       "justify_items": null,
       "left": null,
       "margin": null,
       "max_height": null,
       "max_width": null,
       "min_height": null,
       "min_width": null,
       "object_fit": null,
       "object_position": null,
       "order": null,
       "overflow": null,
       "padding": null,
       "right": null,
       "top": null,
       "visibility": null,
       "width": null
      }
     },
     "ecf0ff5fa47e4642aee223d6bf48f298": {
      "model_module": "@jupyter-widgets/controls",
      "model_module_version": "2.0.0",
      "model_name": "HBoxModel",
      "state": {
       "_dom_classes": [],
       "_model_module": "@jupyter-widgets/controls",
       "_model_module_version": "2.0.0",
       "_model_name": "HBoxModel",
       "_view_count": null,
       "_view_module": "@jupyter-widgets/controls",
       "_view_module_version": "2.0.0",
       "_view_name": "HBoxView",
       "box_style": "",
       "children": [
        "IPY_MODEL_9346f942294548e2ab6caf94d2c24934",
        "IPY_MODEL_3e658ff739494329b8347eacfe174184",
        "IPY_MODEL_345507d9ce9240fbb4c6bf7bd64f88da"
       ],
       "layout": "IPY_MODEL_08f08637d8cf4b459bef88d8be5e4a96",
       "tabbable": null,
       "tooltip": null
      }
     },
     "ff0afd2e4ca94c09b6f4caddcb542f16": {
      "model_module": "@jupyter-widgets/controls",
      "model_module_version": "2.0.0",
      "model_name": "ProgressStyleModel",
      "state": {
       "_model_module": "@jupyter-widgets/controls",
       "_model_module_version": "2.0.0",
       "_model_name": "ProgressStyleModel",
       "_view_count": null,
       "_view_module": "@jupyter-widgets/base",
       "_view_module_version": "2.0.0",
       "_view_name": "StyleView",
       "bar_color": null,
       "description_width": ""
      }
     }
    },
    "version_major": 2,
    "version_minor": 0
   }
  }
 },
 "nbformat": 4,
 "nbformat_minor": 5
}
